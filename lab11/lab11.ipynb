{
  "cells": [
    {
      "cell_type": "markdown",
      "metadata": {
        "id": "5l2nX2V90ar_"
      },
      "source": [
        "<a id='top'></a>\n",
        "# *Lab 11: Link Prediction*\n",
        "\n",
        "B210900803 E.Ulziimaa\n",
        "\n"
      ]
    },
    {
      "cell_type": "markdown",
      "metadata": {
        "id": "dX9NQcbh0asA"
      },
      "source": [
        "Jaccard болон Adamic-Adar яагаад ялгаатай үр дүн үзүүлдэг вэ?\n",
        "\n",
        "\n",
        "Jaccard ба Adamic-Adar нь холбоос илрүүлэх (link prediction) асуудалд хэрэглэгддэг үнэлгээний heuristics бөгөөд хоёулаа орон нутгийн (local) мэдээлэл ашигладаг боловч ялгаатай логиктой.\n",
        "\n",
        "Jaccard Similarity:\n",
        "\n",
        "Jaccard нь хоёр оройн хөршүүдийн давхцлыг бүх хөршүүдийн нийлбэртэй харьцуулдаг.\n",
        "Хувь буюу пропорц хэмжинэ.\n",
        "Том хэмжээтэй хөршүүдтэй оройнууд Jaccard-ын утгыг бууруулж болно.\n",
        "Давхцал бага байсан ч олон хөрштэй бол Jaccard бага гарна.\n",
        "\n",
        "Adamic-Adar Index:\n",
        "\n",
        "Adamic-Adar нь нийтлэг хөрш бүрийн мэдээллийн агуулгыг тооцдог.\n",
        "\n",
        "Нийтлэг хөрш бага хөрштэй байвал өндөр оноо авна.\n",
        "Өндөр төвшний буюу \"popular\" оройнуудын нөлөөг багасгаж өгдөг.\n",
        "Мэдээллийн үнэ цэнэ буюу \"informativeness\" илүү тусгагддаг.\n",
        "\n",
        "\n",
        "Яагаад ялгаатай үр дүн гардаг вэ?\n",
        "\n",
        "Хэрэв сүлжээнд олон том hub орой байвал Jaccard доогуур оноо өгөх хандлагатай байдаг.\n",
        "Харин Adamic-Adar нь жижиг хөрштэй нийтлэг хөршүүдийг илүүд үздэг, өөр логиктой.\n",
        "Үр дүн нь тухайн сүлжээний бүтэц (жишээ нь, scale-free эсвэл random) болон оройн degree-н хуваарилалтаас ихээхэн шалтгаалдаг."
      ]
    },
    {
      "cell_type": "code",
      "source": [
        "from sklearn.tree import DecisionTreeClassifier\n",
        "from sklearn.model_selection import train_test_split\n",
        "from sklearn.metrics import accuracy_score\n",
        "import networkx as nx\n",
        "\n",
        "# 1. Граф үүсгэх\n",
        "G = nx.karate_club_graph()\n",
        "\n",
        "# 2. Эерэг болон сөрөг хосууд үүсгэх\n",
        "positive_edges = list(G.edges())  # Бодит холбоосууд\n",
        "negative_edges = ...  # Хамааралгүй хосууд (гүй холбоос)\n",
        "\n",
        "# 3. Feature vector үүсгэх (Jaccard, Adamic-Adar гэх мэт)\n",
        "def extract_features(G, x, y):\n",
        "    jaccard = list(nx.jaccard_coefficient(G, [(x, y)]))[0][2]\n",
        "    aa = list(nx.adamic_adar_index(G, [(x, y)]))[0][2]\n",
        "    return [jaccard, aa]\n",
        "\n",
        "X = [extract_features(G, u, v) for u, v in positive_edges + negative_edges]\n",
        "y = [1]*len(positive_edges) + [0]*len(negative_edges)\n",
        "\n",
        "# 4. Decision Tree classifier\n",
        "X_train, X_test, y_train, y_test = train_test_split(X, y, test_size=0.2)\n",
        "clf = DecisionTreeClassifier()\n",
        "clf.fit(X_train, y_train)\n",
        "y_pred = clf.predict(X_test)\n",
        "\n",
        "print(\"Accuracy:\", accuracy_score(y_test, y_pred))\n"
      ],
      "metadata": {
        "id": "5gjMaEtX-JmR"
      },
      "execution_count": null,
      "outputs": []
    },
    {
      "cell_type": "markdown",
      "source": [
        "linkpred санг ашиглан Decision Tree алгоритмаар холбоос илрүүлж болох уу?\n",
        "\n",
        "Тийм, боломжтой. linkpred сан нь үндсэндээ heuristic суурилсан link prediction хийхэд зориулагдсан боловч, түүний гаргаж буй онцлог (features) дээр үндэслэн Decision Tree зэрэг supervised learning алгоритм ашиглах бүрэн боломжтой.\n",
        "\n",
        "Алхамууд:\n",
        "\n",
        "Feature extraction:\n",
        "\n",
        "linkpred ашиглан Jaccard, Adamic-Adar, Preferential Attachment гэх мэт олон heuristics-г шинж чанар (feature) хэлбэрээр гаргаж авна.\n",
        "\n",
        "Label хийх:\n",
        "\n",
        "Өнгөрсөн хугацааны граф (training snapshot) дээр үндэслэн аль хосууд шинэ холбоос үүсгэсэн (positive), аль нь үүсгээгүй (negative) гэдгийг тэмдэглэнэ.\n",
        "\n",
        "Decision Tree model:\n",
        "Python-ийн sklearn.tree.DecisionTreeClassifier ашиглан supervised сургалт хийх.\n",
        "\n",
        "Features: Jaccard, AA, CN, etc.\n",
        "\n",
        "Label: холбоос үүссэн эсэх (1 эсвэл 0).\n",
        "\n",
        "Training болон test:\n",
        "Мэдээллийг train/test хувааж, model-ээ сургаад test dataset дээр шалгана."
      ],
      "metadata": {
        "id": "7NNKP_iP-N-u"
      }
    },
    {
      "cell_type": "markdown",
      "source": [],
      "metadata": {
        "id": "cWdyyWiS9tXS"
      }
    },
    {
      "cell_type": "code",
      "source": [
        "from sklearn.tree import DecisionTreeClassifier\n",
        "from sklearn.model_selection import train_test_split\n",
        "\n",
        "# X: linkpred-ийн онцлогууд (Жакард, Адамик-Адар гэх мэт)\n",
        "#y: шошго (холбоос үүссэн бол 1, үгүй ​​бол 0)\n",
        "X_train, X_test, y_train, y_test = train_test_split(X, y, test_size=0.3)\n",
        "\n",
        "clf = DecisionTreeClassifier()\n",
        "clf.fit(X_train, y_train)\n",
        "\n",
        "y_pred = clf.predict(X_test)\n"
      ],
      "metadata": {
        "id": "Q8rtg2vg-ift"
      },
      "execution_count": null,
      "outputs": []
    },
    {
      "cell_type": "markdown",
      "metadata": {
        "id": "4lxloSXQ0asA"
      },
      "source": [
        "<a id='install'></a>\n",
        "## 1. LinkPred санг суулгах ([to top](#top))\n",
        "\n",
        "Эхний алхам бол,  ``linkpred`` санг суулгах бөгөөд амжилттай суусан тохиолдолд уг сангын функцүүдтэй ажиллах боломжтой болно.\n",
        "\n",
        "Санг суулгахдаа ``pip`` ашиглаж болно."
      ]
    },
    {
      "cell_type": "markdown",
      "metadata": {
        "id": "658v1ata0asB"
      },
      "source": [
        "    pip install linkpred"
      ]
    },
    {
      "cell_type": "code",
      "source": [
        "pip install linkpred"
      ],
      "metadata": {
        "colab": {
          "base_uri": "https://localhost:8080/"
        },
        "id": "9Q9bEOg52bfa",
        "outputId": "7b173988-7045-4716-de03-8ce9c9f5cee6"
      },
      "execution_count": null,
      "outputs": [
        {
          "output_type": "stream",
          "name": "stdout",
          "text": [
            "Collecting linkpred\n",
            "  Downloading linkpred-0.5.1.tar.gz (23 kB)\n",
            "  Preparing metadata (setup.py) ... \u001b[?25l\u001b[?25hdone\n",
            "Requirement already satisfied: matplotlib>=2.1 in /usr/local/lib/python3.10/dist-packages (from linkpred) (3.7.1)\n",
            "Requirement already satisfied: networkx>=2.4 in /usr/local/lib/python3.10/dist-packages (from linkpred) (3.3)\n",
            "Requirement already satisfied: numpy>=1.14 in /usr/local/lib/python3.10/dist-packages (from linkpred) (1.25.2)\n",
            "Requirement already satisfied: pyyaml>=3.0 in /usr/local/lib/python3.10/dist-packages (from linkpred) (6.0.1)\n",
            "Requirement already satisfied: scipy>=1.0 in /usr/local/lib/python3.10/dist-packages (from linkpred) (1.11.4)\n",
            "Collecting smokesignal>=0.7 (from linkpred)\n",
            "  Downloading smokesignal-0.7.0.tar.gz (5.9 kB)\n",
            "  Preparing metadata (setup.py) ... \u001b[?25l\u001b[?25hdone\n",
            "Requirement already satisfied: contourpy>=1.0.1 in /usr/local/lib/python3.10/dist-packages (from matplotlib>=2.1->linkpred) (1.2.1)\n",
            "Requirement already satisfied: cycler>=0.10 in /usr/local/lib/python3.10/dist-packages (from matplotlib>=2.1->linkpred) (0.12.1)\n",
            "Requirement already satisfied: fonttools>=4.22.0 in /usr/local/lib/python3.10/dist-packages (from matplotlib>=2.1->linkpred) (4.51.0)\n",
            "Requirement already satisfied: kiwisolver>=1.0.1 in /usr/local/lib/python3.10/dist-packages (from matplotlib>=2.1->linkpred) (1.4.5)\n",
            "Requirement already satisfied: packaging>=20.0 in /usr/local/lib/python3.10/dist-packages (from matplotlib>=2.1->linkpred) (24.0)\n",
            "Requirement already satisfied: pillow>=6.2.0 in /usr/local/lib/python3.10/dist-packages (from matplotlib>=2.1->linkpred) (9.4.0)\n",
            "Requirement already satisfied: pyparsing>=2.3.1 in /usr/local/lib/python3.10/dist-packages (from matplotlib>=2.1->linkpred) (3.1.2)\n",
            "Requirement already satisfied: python-dateutil>=2.7 in /usr/local/lib/python3.10/dist-packages (from matplotlib>=2.1->linkpred) (2.8.2)\n",
            "Requirement already satisfied: six>=1.5 in /usr/local/lib/python3.10/dist-packages (from python-dateutil>=2.7->matplotlib>=2.1->linkpred) (1.16.0)\n",
            "Building wheels for collected packages: linkpred, smokesignal\n",
            "  Building wheel for linkpred (setup.py) ... \u001b[?25l\u001b[?25hdone\n",
            "  Created wheel for linkpred: filename=linkpred-0.5.1-py3-none-any.whl size=28744 sha256=3a9a204264f328516d04ee10a2259703b1a69b9459c0ee4cca03cf99913d37f7\n",
            "  Stored in directory: /root/.cache/pip/wheels/cc/24/15/4f18e6e3718786d97d74dd34e68744b063a338ca1fd677e055\n",
            "  Building wheel for smokesignal (setup.py) ... \u001b[?25l\u001b[?25hdone\n",
            "  Created wheel for smokesignal: filename=smokesignal-0.7.0-py3-none-any.whl size=6031 sha256=ca58e8406cda43dc13f445c26b30dee50addc16c349ecb9c418d8c1bc1f6b723\n",
            "  Stored in directory: /root/.cache/pip/wheels/4b/b3/8e/a6eb57fab0fecdd37e8ffb5e602cde85ea095ed4d2d2f6c499\n",
            "Successfully built linkpred smokesignal\n",
            "Installing collected packages: smokesignal, linkpred\n",
            "Successfully installed linkpred-0.5.1 smokesignal-0.7.0\n"
          ]
        }
      ]
    },
    {
      "cell_type": "markdown",
      "metadata": {
        "id": "1gw2Y-lc0asB"
      },
      "source": [
        "In order to check if ``linkpred`` сан амжилттай суусан эсэхийг шалгахдаа дараах байдлаар кодондоо оруулж ирж болж байна уу гэж үзнэ."
      ]
    },
    {
      "cell_type": "code",
      "execution_count": null,
      "metadata": {
        "id": "VKUU61MX0asB"
      },
      "outputs": [],
      "source": [
        "import linkpred"
      ]
    },
    {
      "cell_type": "markdown",
      "metadata": {
        "id": "b3qovt6w0asC"
      },
      "source": [
        "<a id='workflow'></a>\n",
        "## 2. Таамаглах үйл явцын дараалал\n",
        "\n",
        "``linkpred`` нь дараах 3-н үе шаттайгаар Холбоосыг таамаглах үйл явцыг биелүүлдэг.\n",
        "\n",
        "1. Сүлжээгээ байгуулах - Network Loading\n",
        "2. Таамаглагчаа сонгох, аппликейшн - Predictor selection and application\n",
        "3. Үр дүн үнэлэх - Results evaluation\n",
        "\n",
        "<a id='graph'></a>\n",
        "### 2.A Файлаас уншиж сүлжээг байгуулах\n",
        "\n",
        "Эхлээд, ``linkpred`` нь файлаас графыг уншихыг шаарддаг. Бид энэ удаа  Game of Thrones Season 6 (Хаадын тоглоом цуврал)-ийн ирмэгүүдийг мэдээллийг ашиглана."
      ]
    },
    {
      "cell_type": "code",
      "execution_count": null,
      "metadata": {
        "id": "Ock86qcM0asD"
      },
      "outputs": [],
      "source": [
        "%matplotlib inline\n",
        "import matplotlib.pyplot as plt\n",
        "import networkx as nx"
      ]
    },
    {
      "cell_type": "code",
      "execution_count": null,
      "metadata": {
        "id": "mFLaxPRi0asD"
      },
      "outputs": [],
      "source": [
        "def read_net_w(filename):\n",
        "    g = nx.Graph()\n",
        "    with open(filename) as f:\n",
        "        f.readline()\n",
        "        for l in f:\n",
        "            l = l.split(\",\")\n",
        "            g.add_edge(l[0], l[1], weight=int(l[2]))\n",
        "    return g\n",
        "\n",
        "# Game of Thrones data\n",
        "g = read_net_w(f'/content/sample_data/got-s6-edges.csv')"
      ]
    },
    {
      "cell_type": "code",
      "source": [
        "nx.draw(g)"
      ],
      "metadata": {
        "id": "V4Z-kl0ytUn7"
      },
      "execution_count": null,
      "outputs": []
    },
    {
      "cell_type": "markdown",
      "metadata": {
        "id": "p1F4L2X20asD"
      },
      "source": [
        "<a id='pred'></a>\n",
        "### 2.B Удирдлагагүй сургалтын таамаглагч тооцоолох\n",
        "\n",
        "``linkpred`` нь 4 бүлэг удирдлагагүй сургалтын таамаглагчид өргөн хэрэглэгдэж байна. Үүнд:\n",
        "- **Neighborhood:**\n",
        "    - *AdamicAdar*, AssociationStrength, *CommonNeighbours*, Cosine, DegreeProduct, *Jaccard*, MaxOverlap, MinOverlap, NMeasure, Pearson,ResourceAllocation\n",
        "- **Paths:**\n",
        "    - GraphDistance, *Katz*\n",
        "- **Ranking:**\n",
        "    - *SimRank*, RootedPageRank\n",
        "- **Miscellanea:**\n",
        "    - Community, Copy, *Random*\n",
        "    \n",
        "Энэ лаборатороор бид цөөн хэдэн аргыг орууллаа.\n",
        "\n",
        "Энгийн ойлгомжтой байлгахын тулд бид сонгогдсон таамаглагч бүрт топ-5 нь үр дүнг харууллаа."
      ]
    },
    {
      "cell_type": "markdown",
      "metadata": {
        "id": "fT5r4gl-0asE"
      },
      "source": [
        "#### 2.B.1 Neighborhood\n",
        "\n",
        "Эхний хэсэг бүлэг таамаглагч бол зангилаа бүрийн хувьд холбогдох боломжтой хос оройг уг хоёр оройн хөрш оройнуудтайгаа хэр хүчтэй сул холбогдсон байдлаас үүдэн холбоосыг үүсэх эсэх магадлалаар олдог.\n",
        " </br>\n",
        "Энэ төрлийн таамаглагчид нь дараах асуултанд хариулт олохыг хичээдэг.\n",
        " *How many friend we have to share in order to become friends?*\n",
        "\n",
        "##### **Common Neighbors**\n",
        "\n",
        "Илүү олон дундын найзуудтай бол бид найз болох магадлал өндөр байна."
      ]
    },
    {
      "cell_type": "code",
      "execution_count": null,
      "metadata": {
        "colab": {
          "base_uri": "https://localhost:8080/"
        },
        "id": "TdjLwxFL0asE",
        "outputId": "6bf89419-c89e-48e1-fdd0-0c7efb7f0ae2"
      },
      "outputs": [
        {
          "output_type": "stream",
          "name": "stdout",
          "text": [
            "TOMMEN - MACE 8.0\n",
            "NED - LADY_CRANE 8.0\n",
            "NED - CLARENZO 8.0\n",
            "MARGAERY - IZEMBARO 8.0\n",
            "MARGAERY - ARYA 8.0\n"
          ]
        }
      ],
      "source": [
        "cn = linkpred.predictors.CommonNeighbours(g, excluded=g.edges()) # We aim to predict only new links, thus we exclude existing ones\n",
        "cn_results = cn.predict()\n",
        "\n",
        "top = cn_results.top(5)\n",
        "for edge, score in top.items():\n",
        "    print(edge, score)"
      ]
    },
    {
      "cell_type": "markdown",
      "metadata": {
        "id": "o4NBiHl80asE"
      },
      "source": [
        "##### **Jaccard**\n",
        "Топологи бүтэц болон аттрибутуудын ижил төсөөтэй байдал нь найз болох эсэхийг тодорхойлно."
      ]
    },
    {
      "cell_type": "code",
      "execution_count": null,
      "metadata": {
        "colab": {
          "base_uri": "https://localhost:8080/"
        },
        "id": "-pqXnh8X0asF",
        "outputId": "58eb97db-b49d-4e15-9e2b-c64087705bfb"
      },
      "outputs": [
        {
          "output_type": "stream",
          "name": "stdout",
          "text": [
            "RED_PRIEST - KINVARA 1.0\n",
            "LITTLE_SAM - DICKON 1.0\n",
            "TOMMEN - MACE 0.7272727272727273\n",
            "JOFFREY - CAMELLO 0.7272727272727273\n",
            "OLD_NAN - BENJEN 0.7142857142857143\n"
          ]
        }
      ],
      "source": [
        "jc = linkpred.predictors.Jaccard(g, excluded=g.edges())\n",
        "jc_results = jc.predict()\n",
        "\n",
        "top = jc_results.top(5)\n",
        "for edge, score in top.items():\n",
        "    print(edge, score)"
      ]
    },
    {
      "cell_type": "markdown",
      "metadata": {
        "id": "kavWej340asF"
      },
      "source": [
        "##### **Adamic Adar**\n",
        "Бидний дундын найзын тоо нь биднийг найз болох эсэхийг тодорхойлоход ашиглагдана."
      ]
    },
    {
      "cell_type": "code",
      "execution_count": null,
      "metadata": {
        "colab": {
          "base_uri": "https://localhost:8080/"
        },
        "id": "EEppoq3f0asF",
        "outputId": "5c356071-d020-443c-e94e-7887c22846dc"
      },
      "outputs": [
        {
          "output_type": "stream",
          "name": "stdout",
          "text": [
            "TOMMEN - MACE 3.187557281030789\n",
            "NED - LADY_CRANE 3.126371165725783\n",
            "NED - CLARENZO 3.126371165725783\n",
            "SANSA - ROBB 3.096644315133247\n",
            "JOFFREY - CAMELLO 2.8944937119329133\n"
          ]
        }
      ],
      "source": [
        "aa = linkpred.predictors.AdamicAdar(g, excluded=g.edges())\n",
        "aa_results = aa.predict()\n",
        "\n",
        "top = aa_results.top(5)\n",
        "for edge, score in top.items():\n",
        "    print(edge, score)"
      ]
    },
    {
      "cell_type": "markdown",
      "metadata": {
        "id": "D_hzGZYA0asF"
      },
      "source": [
        "#### 2.B.2 Paths\n",
        "\n",
        "Хоёрдогч төрлийн таамаглагчид нь хос оройн хоорондын зайнаас хамаарч тэд ирээдүйд холбогдох эсэхийг магадлаар боддог.\n",
        "</br>\n",
        "Энэ төрлийн таамаглагчид нь дараах асуултад хариулт олохыг хичээдэг: *How distant are we?*\n",
        "\n",
        "\n",
        "##### **Katz**\n",
        "Katz computes the weighted sum over all the paths between two nodes."
      ]
    },
    {
      "cell_type": "code",
      "execution_count": null,
      "metadata": {
        "colab": {
          "base_uri": "https://localhost:8080/"
        },
        "id": "X--8-ary0asF",
        "outputId": "e4fd562f-b643-4f19-edee-9b4a0bf6d0d4"
      },
      "outputs": [
        {
          "output_type": "stream",
          "name": "stdout",
          "text": [
            "\n",
            "LADY_CRANE - JAQEN 0.005571576860773001\n",
            "SANSA - ALLISER_THORNE 0.004234378077202\n",
            "TYRION - DAARIO 0.004145905054793999\n",
            "CERSEI - BRIENNE 0.0038862606857720003\n",
            "MELISANDRE - LYANNA_MORMONT 0.0035937193855959996\n"
          ]
        }
      ],
      "source": [
        "kz = linkpred.predictors.Katz(g, excluded=g.edges())\n",
        "kz_results = kz.predict()\n",
        "\n",
        "top = kz_results.top(5)\n",
        "for edge, score in top.items():\n",
        "    print(edge, score)"
      ]
    },
    {
      "source": [
        "##### **Graph Distance**\n",
        "Графын зай буюу Distance нь хоёр оройн хоорондын богино замын уртаар тодорхойлогдоно."
      ],
      "cell_type": "markdown",
      "metadata": {
        "id": "1-otsYcI0asG"
      }
    },
    {
      "cell_type": "code",
      "execution_count": null,
      "metadata": {
        "colab": {
          "base_uri": "https://localhost:8080/"
        },
        "id": "m6RedXEC0asG",
        "outputId": "3db6e9a6-11f3-4b4e-8f50-2de5cb3750e6"
      },
      "outputs": [
        {
          "output_type": "stream",
          "name": "stdout",
          "text": [
            "LADY_CRANE - JAQEN 36.136054421768705\n",
            "TYRION - DAARIO 30.29268292682927\n",
            "CERSEI - BRIENNE 28.44827586206896\n",
            "MELISANDRE - LITTLEFINGER 23.427491305005294\n",
            "CERSEI - BRONN 23.294117647058822\n"
          ]
        }
      ],
      "source": [
        "gd = linkpred.predictors.GraphDistance(g, excluded=g.edges())\n",
        "gd_results = gd.predict()\n",
        "\n",
        "top = gd_results.top(5)\n",
        "for edge, score in top.items():\n",
        "    print(edge, score)"
      ]
    },
    {
      "cell_type": "markdown",
      "metadata": {
        "id": "JmupbL680asG"
      },
      "source": [
        "#### 2.B.3 Rankig\n",
        "Гуравдагч бүлэг таамаглагчид нь граф дахь хос оройнуудын байрлалаас хамаарч холбогдох магадлалыг тооцоолно.\n",
        " </br>\n",
        "Дараах асуултанд хариулж буй байдлаас хамаарч тодорхойлогдоно: *How similar are we?\n",
        "\n",
        "##### **SimRank**\n",
        "Хоёр зангилаа холбоосоор холбогдохын тул тэдгээрийн хөрш оройнууд ижил төсөөтэй байх хэрэгтэй."
      ]
    },
    {
      "cell_type": "code",
      "execution_count": null,
      "metadata": {
        "colab": {
          "base_uri": "https://localhost:8080/"
        },
        "id": "yqXOqgWf0asG",
        "outputId": "882acdc7-3b1b-406a-8da0-a61886549f35"
      },
      "outputs": [
        {
          "output_type": "stream",
          "name": "stdout",
          "text": [
            "MAESTER_CITADEL - MAESTER_AEMON 0.3920701611834253\n",
            "RAY - GATINS 0.3886464843365491\n",
            "GATINS - BERIC 0.3675791855431439\n",
            "THOROS - GATINS 0.3636591552182033\n",
            "MAESTER_AEMON - GILLY 0.319889623157789\n"
          ]
        }
      ],
      "source": [
        "simrank = linkpred.predictors.SimRank(g, excluded=g.edges())\n",
        "simrank_results = simrank.predict(c=0.5)\n",
        "\n",
        "top = simrank_results.top(5)\n",
        "for edge, score in top.items():\n",
        "    print(edge, score)"
      ]
    },
    {
      "cell_type": "markdown",
      "metadata": {
        "id": "2RLWWBhM0asG"
      },
      "source": [
        "#### 2.B.4 Miscellanea\n",
        "Энэ нь холбоосыг таамаглахдаа санамсаргүй байдлаар сонгож авдаг.\n",
        " </br>\n",
        "``linkpred`` groups here approaches that are commonly used as baselines.\n",
        "\n",
        "##### **Random**\n",
        "Санамсаргүй байдлаар таах."
      ]
    },
    {
      "cell_type": "code",
      "execution_count": null,
      "metadata": {
        "colab": {
          "base_uri": "https://localhost:8080/"
        },
        "id": "lXVnLjig0asG",
        "outputId": "6d8517af-302b-4c2d-ca80-92537b8af371"
      },
      "outputs": [
        {
          "output_type": "stream",
          "name": "stdout",
          "text": [
            "MAESTER_CITADEL - MAESTER_AEMON 0.3920701611834253\n",
            "RAY - GATINS 0.3886464843365491\n",
            "GATINS - BERIC 0.3675791855431439\n",
            "THOROS - GATINS 0.3636591552182033\n",
            "MAESTER_AEMON - GILLY 0.319889623157789\n"
          ]
        }
      ],
      "source": [
        "rnd = linkpred.predictors.Random(g, excluded=g.edges())\n",
        "rnd_results = rnd.predict()\n",
        "\n",
        "top = simrank_results.top(5)\n",
        "for edge, score in top.items():\n",
        "    print(edge, score)"
      ]
    },
    {
      "cell_type": "markdown",
      "metadata": {
        "id": "HJ0sQIje0asG"
      },
      "source": [
        "<a id='eval'></a>\n",
        "### 2.C Ялгаатай таамаглагчидын харьцуулах болон үнэлэх\n",
        "Холбоосуудыг үүсэх эсэхыг таамаглахдаа бид сургалтын болон тестийн өгөгдлүүдтэй ажиллаж шалгана. Өгөгдлөө сургалтын болон тестийн болгон хуваах шаардлагатай."
      ]
    },
    {
      "cell_type": "code",
      "execution_count": null,
      "metadata": {
        "id": "NybDVGWo0asH"
      },
      "outputs": [],
      "source": [
        "import random\n",
        "import itertools\n",
        "from linkpred.evaluation import Pair\n",
        "\n",
        "# Building the test network\n",
        "test = read_net_w(f'/content/sample_data/got-s7-edges.csv')\n",
        "\n",
        "# Exclude test network from learning phase\n",
        "training = g.copy()\n",
        "\n",
        "# Node set\n",
        "nodes = list(g.nodes())\n",
        "nodes.extend(list(test.nodes()))\n",
        "\n",
        "# Compute the test set and the universe set\n",
        "test = [Pair(i) for i in test.edges()]\n",
        "universe = set([Pair(i) for i in itertools.product(nodes, nodes) if i[0]!=i[1]])"
      ]
    },
    {
      "cell_type": "markdown",
      "metadata": {
        "id": "xOJrigLz0asH"
      },
      "source": [
        "Дараагаар нь бид сургалтын өгөгдөл дээрээ таамаглагчаа ажиллуулна."
      ]
    },
    {
      "cell_type": "code",
      "execution_count": null,
      "metadata": {
        "id": "QmmpypKS0asH"
      },
      "outputs": [],
      "source": [
        "cn = linkpred.predictors.CommonNeighbours(training, excluded=training.edges())\n",
        "cn_results = cn.predict()\n",
        "\n",
        "aa = linkpred.predictors.AdamicAdar(training, excluded=training.edges())\n",
        "aa_results = aa.predict()\n",
        "\n",
        "jc = linkpred.predictors.Jaccard(training, excluded=training.edges())\n",
        "jc_results = jc.predict()"
      ]
    },
    {
      "cell_type": "markdown",
      "metadata": {
        "id": "D47fHTM30asH"
      },
      "source": [
        "Тэгээд бид тестийн өгөгдлөө ашиглан таамаглагч хэр үнэн таамаглаж буй үнэлнэ.\n"
      ]
    },
    {
      "cell_type": "code",
      "execution_count": null,
      "metadata": {
        "id": "P9AVN8ad0asH"
      },
      "outputs": [],
      "source": [
        "cn_evaluation = linkpred.evaluation.EvaluationSheet(cn_results, test, universe)\n",
        "aa_evaluation = linkpred.evaluation.EvaluationSheet(aa_results, test, universe)\n",
        "jc_evaluation = linkpred.evaluation.EvaluationSheet(jc_results, test, universe)"
      ]
    },
    {
      "cell_type": "markdown",
      "metadata": {
        "id": "ARg7azri0asH"
      },
      "source": [
        "Үр дүнгүүдээ тайлбарлахдаа бид ROC -ийн муруй ашиглан дүрслэнэ."
      ]
    },
    {
      "cell_type": "code",
      "execution_count": null,
      "metadata": {
        "colab": {
          "base_uri": "https://localhost:8080/",
          "height": 279
        },
        "id": "H-alLozl0asH",
        "outputId": "1a317d01-a9ee-464d-bf7f-6d1d5b21a050"
      },
      "outputs": [
        {
          "output_type": "display_data",
          "data": {
            "text/plain": [
              "<Figure size 432x288 with 1 Axes>"
            ],
            "image/png": "[encoded data removed]"
          },
          "metadata": {
            "needs_background": "light"
          }
        }
      ],
      "source": [
        "plt.plot(cn_evaluation.fallout(), cn_evaluation.recall(), label=\"Common Neighbors\")\n",
        "plt.plot(aa_evaluation.fallout(), aa_evaluation.recall(), label=\"Adamic Adar\")\n",
        "plt.plot(jc_evaluation.fallout(), jc_evaluation.recall(), label=\"Jaccard\")\n",
        "plt.ylabel(\"TPR\")\n",
        "plt.xlabel(\"FPR\")\n",
        "plt.legend()\n",
        "plt.show()"
      ]
    },
    {
      "cell_type": "markdown",
      "metadata": {
        "id": "qQOF0QNu0asH"
      },
      "source": [
        "Үр дүнгээ нэгтгэн тайлбарлах, дүгнэхэд хамгийн тохиромжтой, энгийн арга нь ROC муруй болон үүн дээр AUC бодож үзэх юм."
      ]
    },
    {
      "cell_type": "code",
      "execution_count": null,
      "metadata": {
        "colab": {
          "base_uri": "https://localhost:8080/"
        },
        "id": "oSKu-Xs90asH",
        "outputId": "35d31d28-6ea0-4338-eee1-332b279b6ca3"
      },
      "outputs": [
        {
          "output_type": "stream",
          "name": "stdout",
          "text": [
            "Area Under Roc Curve (AUROC)\n",
            "Common Neigh.: \t 0.026832485313825823\n",
            "Adamic Adar: \t 0.027259225458645765\n",
            "Jaccard: \t 0.018894838921578106\n"
          ]
        }
      ],
      "source": [
        "from sklearn.metrics import auc\n",
        "\n",
        "print(\"Area Under Roc Curve (AUROC)\")\n",
        "print(f\"Common Neigh.: \\t {auc(cn_evaluation.fallout(), cn_evaluation.recall())}\")\n",
        "print(f\"Adamic Adar: \\t {auc(aa_evaluation.fallout(), aa_evaluation.recall())}\")\n",
        "print(f\"Jaccard: \\t {auc(jc_evaluation.fallout(), jc_evaluation.recall())}\")"
      ]
    }
  ],
  "metadata": {
    "kernelspec": {
      "display_name": "Python 3",
      "language": "python",
      "name": "python3"
    },
    "language_info": {
      "codemirror_mode": {
        "name": "ipython",
        "version": 3
      },
      "file_extension": ".py",
      "mimetype": "text/x-python",
      "name": "python",
      "nbconvert_exporter": "python",
      "pygments_lexer": "ipython3",
      "version": "3.6.5-final"
    },
    "colab": {
      "provenance": []
    }
  },
  "nbformat": 4,
  "nbformat_minor": 0
}